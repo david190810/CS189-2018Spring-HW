{
 "cells": [
  {
   "cell_type": "markdown",
   "metadata": {},
   "source": [
    "# Dropout - Ridge Regression Demo\n"
   ]
  },
  {
   "cell_type": "code",
   "execution_count": 1,
   "metadata": {},
   "outputs": [],
   "source": [
    "import numpy as np\n",
    "import matplotlib.pyplot as plt\n",
    "%matplotlib inline"
   ]
  },
  {
   "cell_type": "markdown",
   "metadata": {},
   "source": [
    "We're trying to find a $w \\in R^d$ that minimizes $L = \\frac{1}{2}||y - Xw||_2^2$\n",
    "The SGD gradient is then \n",
    "$$\\nabla_w L = x_ix_i^Tw - y_ix_i$$\n"
   ]
  },
  {
   "cell_type": "code",
   "execution_count": 2,
   "metadata": {},
   "outputs": [],
   "source": [
    "def least_squares_sgd_dropout(X, y, step_size, num_itrs, p):\n",
    "    '''\n",
    "    Performs dropout with probability p for the least squares problem\n",
    "    Input:  X is a N x d matrix\n",
    "            y: N x 1 vector\n",
    "            step_size: size of step to take\n",
    "            num_itrs: number of SGD steps to take\n",
    "            p: probability of keeping something\n",
    "    Output: w: d x1 vector\n",
    "    '''\n",
    "    w = np.zeros([X.shape[1]])\n",
    "    \n",
    "    for itr in range(num_itrs):\n",
    "        \n",
    "        if itr == num_itrs//2:\n",
    "            step_size /= 5\n",
    "        if itr == num_itrs*3//4:\n",
    "            step_size /= 5\n",
    "        i = np.random.choice(X.shape[0])\n",
    "        x_i = X[i, :].copy()\n",
    "        x_i[np.where(np.random.random(X.shape[1])>p)] = 0\n",
    "        \n",
    "        grad = x_i * (x_i @ w - y[i])  # @ is matrix multiplication\n",
    "        w -= step_size * grad\n",
    "    return w\n",
    "\n",
    "def ridge_regression(X, y, lambda_):\n",
    "    return np.linalg.solve(X.T @ X + lambda_*np.eye(X.shape[1]), X.T @ y)"
   ]
  },
  {
   "cell_type": "markdown",
   "metadata": {},
   "source": [
    "# Part A\n",
    "Demonstration that dropout and ridge regression are the same for a certain class of problems"
   ]
  },
  {
   "cell_type": "code",
   "execution_count": 3,
   "metadata": {},
   "outputs": [],
   "source": [
    "# for this part, X needs to have orthogonal columns\n",
    "X, _ = np.linalg.qr(np.random.random([20, 2])*20)\n",
    "\n",
    "w = np.random.normal(scale=10.0, size=[2])\n",
    "y = X.dot(w) + np.random.normal(scale=5.0, size=[20])"
   ]
  },
  {
   "cell_type": "code",
   "execution_count": 8,
   "metadata": {
    "scrolled": false
   },
   "outputs": [],
   "source": [
    "p_vals = np.arange(0.6, 0.9, 0.1)\n",
    "\n",
    "dropout_weights = [[p*least_squares_sgd_dropout(X, y, 0.05, 20000, p) for p in p_vals] for _ in range(5)]\n",
    "dropout_weights = np.average(np.array(dropout_weights), axis=0)\n",
    "\n",
    "rr_weights = np.array([ridge_regression(X, y, (1-p) / p).reshape(2) for p in p_vals])"
   ]
  },
  {
   "cell_type": "code",
   "execution_count": 12,
   "metadata": {},
   "outputs": [
    {
     "data": {
      "image/png": "[encoded data removed]",
      "text/plain": [
       "<Figure size 432x288 with 1 Axes>"
      ]
     },
     "metadata": {},
     "output_type": "display_data"
    }
   ],
   "source": [
    "plt.title(\"Learned weights\")\n",
    "plt.scatter(dropout_weights[:,0], dropout_weights[:,1], c='b', label=\"dropout\")\n",
    "plt.scatter(rr_weights[:,0], rr_weights[:,1], c='r', label=\"Ridge regression\")\n",
    "plt.legend(loc=2)\n",
    "plt.show()"
   ]
  },
  {
   "cell_type": "markdown",
   "metadata": {},
   "source": [
    "# Part B"
   ]
  },
  {
   "cell_type": "markdown",
   "metadata": {},
   "source": [
    "Purpose of this problem is to show the connection between bagging and algorithms besides trees.\n",
    "    This weighted average is something that you can't pull off with trees"
   ]
  },
  {
   "cell_type": "code",
   "execution_count": 15,
   "metadata": {},
   "outputs": [],
   "source": [
    "def weighted_sum(weights, p):\n",
    "    # 1st is 0\n",
    "    # 2nd has just first col\n",
    "    # 3rd has just second col\n",
    "    # fourth has both cols\n",
    "    # p is probability of keeping\n",
    "    result = np.zeros(2)\n",
    "    result += p *(1 - p) * weights[1,:]\n",
    "    result += p *(1 - p) * weights[2,:]\n",
    "    result += p * p * weights[3,:]\n",
    "    return result\n",
    "\n",
    "def compare_methods(X, y):\n",
    "    X_1 = X[:,0].copy()\n",
    "    X_2 = X[:,1].copy()\n",
    "\n",
    "    w1 = X_1.T @ y / (X_1 @ X_1)\n",
    "    w2 = X_2.T @ y / (X_2 @ X_2)\n",
    "    w3 = ridge_regression(X, y, 0)\n",
    "    weights = np.array([[0,0], [w1, 0], [0, w2], w3])\n",
    "    weighted_bagged_w = np.array([weighted_sum(weights, p) for p in np.arange(0.01, 0.99, 0.05)])\n",
    "    \n",
    "    rr_w = np.array([ridge_regression(X, y, penalty).reshape(2) for penalty in np.arange(0, 10, 1)])\n",
    "    \n",
    "    \n",
    "    plt.scatter(weights[:,0].reshape(4), weights[:,1].reshape(4), c='b', label=\"Bagged LR (individual)\")\n",
    "    plt.scatter(weighted_bagged_w[:,0], weighted_bagged_w[:,1], c='r', label=\"Bagged LR (weighted sum)\")\n",
    "    plt.scatter(rr_w[:,0], rr_w[:,1], c='g', label=\"Ridge and dropout\")\n",
    "    plt.legend()\n",
    "    plt.show()\n",
    "    "
   ]
  },
  {
   "cell_type": "code",
   "execution_count": 16,
   "metadata": {},
   "outputs": [
    {
     "data": {
      "image/png": "[encoded data removed]",
      "text/plain": [
       "<Figure size 432x288 with 1 Axes>"
      ]
     },
     "metadata": {},
     "output_type": "display_data"
    }
   ],
   "source": [
    "# X1 = np.random.random([100, 2])*20\n",
    "# w1 = np.random.normal(scale=10.0, size=[2, 1])\n",
    "# y1 = X.dot(w) + np.random.normal(scale=5.0, size=[100, 1])\n",
    "compare_methods(X, y)"
   ]
  },
  {
   "cell_type": "code",
   "execution_count": null,
   "metadata": {},
   "outputs": [],
   "source": [
    "# should also do the augmented dataset thing\n",
    "\n",
    "# 3 curves: ridge, tikhonov (dropout), bagged\n",
    "\n",
    "# if it's easy enough, make a visualization of convergence sgd vs dropout\n",
    "# also have a curve with 4 corners (probability simplex), and the curve shows the \n",
    "# value of the w for different p values\n",
    "\n",
    "# also have an example of ill-conditioned one\n",
    "\n",
    "# have students do this\n",
    "\n",
    "# compare the weight shared dropout vs doing a separate w for each problem, then doing\n",
    "# weighted average\n",
    "\n",
    "# can do sample bagging (don't exhaustively make the models)\n",
    "\n",
    "\n",
    "# have them comment on which behaves better"
   ]
  }
 ],
 "metadata": {
  "anaconda-cloud": {},
  "kernelspec": {
   "display_name": "Python 3",
   "language": "python",
   "name": "python3"
  },
  "language_info": {
   "codemirror_mode": {
    "name": "ipython",
    "version": 3
   },
   "file_extension": ".py",
   "mimetype": "text/x-python",
   "name": "python",
   "nbconvert_exporter": "python",
   "pygments_lexer": "ipython3",
   "version": "3.6.5"
  }
 },
 "nbformat": 4,
 "nbformat_minor": 1
}
